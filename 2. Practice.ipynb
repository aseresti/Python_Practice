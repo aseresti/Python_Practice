{
 "cells": [
  {
   "cell_type": "markdown",
   "id": "5c920c0a",
   "metadata": {},
   "source": [
    "# Practice Session 2 - OOP"
   ]
  },
  {
   "cell_type": "markdown",
   "id": "1cd28081",
   "metadata": {},
   "source": [
    "## 1. "
   ]
  },
  {
   "cell_type": "markdown",
   "id": "44cb4fe7",
   "metadata": {},
   "source": [
    "write a vehicle class with no attribute and method."
   ]
  },
  {
   "cell_type": "code",
   "execution_count": 1,
   "id": "cfe2eb59",
   "metadata": {},
   "outputs": [],
   "source": [
    "class vehicle(object):\n",
    "    pass"
   ]
  },
  {
   "cell_type": "code",
   "execution_count": 2,
   "id": "e9407d3e",
   "metadata": {},
   "outputs": [],
   "source": [
    "v = vehicle()"
   ]
  },
  {
   "cell_type": "code",
   "execution_count": 3,
   "id": "8f75c657",
   "metadata": {},
   "outputs": [
    {
     "data": {
      "text/plain": [
       "['__class__',\n",
       " '__delattr__',\n",
       " '__dict__',\n",
       " '__dir__',\n",
       " '__doc__',\n",
       " '__eq__',\n",
       " '__format__',\n",
       " '__ge__',\n",
       " '__getattribute__',\n",
       " '__gt__',\n",
       " '__hash__',\n",
       " '__init__',\n",
       " '__init_subclass__',\n",
       " '__le__',\n",
       " '__lt__',\n",
       " '__module__',\n",
       " '__ne__',\n",
       " '__new__',\n",
       " '__reduce__',\n",
       " '__reduce_ex__',\n",
       " '__repr__',\n",
       " '__setattr__',\n",
       " '__sizeof__',\n",
       " '__str__',\n",
       " '__subclasshook__',\n",
       " '__weakref__']"
      ]
     },
     "execution_count": 3,
     "metadata": {},
     "output_type": "execute_result"
    }
   ],
   "source": [
    "dir(v)"
   ]
  },
  {
   "cell_type": "markdown",
   "id": "e731bf17",
   "metadata": {},
   "source": [
    "write a vehicle class with max_speed and milage instance attribute."
   ]
  },
  {
   "cell_type": "code",
   "execution_count": 4,
   "id": "308c103b",
   "metadata": {},
   "outputs": [],
   "source": [
    "class vehicle(object):\n",
    "    def __init__(self, max_speed, mileage):\n",
    "        self.max_speed = max_speed\n",
    "        self.mileage_km = mileage\n",
    "        self.mileage_mile = mileage * 1.6"
   ]
  },
  {
   "cell_type": "markdown",
   "id": "7ee4b2e0",
   "metadata": {},
   "source": [
    "create a child Bus class that inherits all of the methods and attribute in vehicle class."
   ]
  },
  {
   "cell_type": "code",
   "execution_count": 9,
   "id": "065831fc",
   "metadata": {},
   "outputs": [],
   "source": [
    "class Bus(vehicle):\n",
    "    def __init__(self, name, max_speed, mileage):\n",
    "        super().__init__(max_speed, mileage)\n",
    "        self.name = name"
   ]
  },
  {
   "cell_type": "code",
   "execution_count": 10,
   "id": "81f103ab",
   "metadata": {},
   "outputs": [],
   "source": [
    "b = Bus('school bus',100,10000)"
   ]
  },
  {
   "cell_type": "code",
   "execution_count": 11,
   "id": "2cd775d5",
   "metadata": {},
   "outputs": [
    {
     "data": {
      "text/plain": [
       "<__main__.Bus at 0x7fad516ce820>"
      ]
     },
     "execution_count": 11,
     "metadata": {},
     "output_type": "execute_result"
    }
   ],
   "source": [
    "b"
   ]
  },
  {
   "cell_type": "code",
   "execution_count": 12,
   "id": "cb87d917",
   "metadata": {},
   "outputs": [
    {
     "data": {
      "text/plain": [
       "{'max_speed': 100,\n",
       " 'mileage_km': 10000,\n",
       " 'mileage_mile': 16000.0,\n",
       " 'name': 'school bus'}"
      ]
     },
     "execution_count": 12,
     "metadata": {},
     "output_type": "execute_result"
    }
   ],
   "source": [
    "b.__dict__"
   ]
  },
  {
   "cell_type": "markdown",
   "id": "e6f6d95d",
   "metadata": {},
   "source": [
    "Give the vehicle class the cpacity argument and Bus.seating_capacity() a default value of 50."
   ]
  },
  {
   "cell_type": "code",
   "execution_count": 17,
   "id": "0fffa8a4",
   "metadata": {},
   "outputs": [],
   "source": [
    "class vehicle(object):\n",
    "    def __init__(self, name, max_speed, mileage):\n",
    "        self.name = name\n",
    "        self.max_speed = max_speed\n",
    "        self.mileage_km = mileage\n",
    "        self.mileage_mile = mileage * 1.6\n",
    "        self.capacity = None\n",
    "        \n",
    "    def seating_capacity(self, capacity = 50):\n",
    "        self.capacity = capacity\n",
    "        return f\"The seating capacity of {self.name} is {capacity}\""
   ]
  },
  {
   "cell_type": "code",
   "execution_count": 23,
   "id": "bc881aab",
   "metadata": {},
   "outputs": [],
   "source": [
    "class Bus(vehicle):\n",
    "    def __init__(self, name, max_speed, mileage, color):\n",
    "        super().__init__(name, max_speed, mileage)\n",
    "        self.color = color"
   ]
  },
  {
   "cell_type": "code",
   "execution_count": 24,
   "id": "abec004d",
   "metadata": {},
   "outputs": [],
   "source": [
    "b = Bus('school bus',100,10000,'yellow')"
   ]
  },
  {
   "cell_type": "code",
   "execution_count": 25,
   "id": "6dea5158",
   "metadata": {},
   "outputs": [
    {
     "data": {
      "text/plain": [
       "'The seating capacity of school bus is 100'"
      ]
     },
     "execution_count": 25,
     "metadata": {},
     "output_type": "execute_result"
    }
   ],
   "source": [
    "b.seating_capacity(100)"
   ]
  },
  {
   "cell_type": "code",
   "execution_count": 26,
   "id": "50876a99",
   "metadata": {},
   "outputs": [
    {
     "data": {
      "text/plain": [
       "{'name': 'school bus',\n",
       " 'max_speed': 100,\n",
       " 'mileage_km': 10000,\n",
       " 'mileage_mile': 16000.0,\n",
       " 'capacity': 100,\n",
       " 'color': 'yellow'}"
      ]
     },
     "execution_count": 26,
     "metadata": {},
     "output_type": "execute_result"
    }
   ],
   "source": [
    "b.__dict__"
   ]
  },
  {
   "cell_type": "markdown",
   "id": "7a0983a8",
   "metadata": {},
   "source": [
    "Add a fare function to the vehicle class. The default fare charge of any vehicle is seating capacity * 100. If the vehicle is a bus instance, we need to add an extra 10% on full fare as a maintenance charge. So total fare for bus instance will become the final amount = total fare + 10%of the total fare."
   ]
  },
  {
   "cell_type": "code",
   "execution_count": 33,
   "id": "61cd1027",
   "metadata": {},
   "outputs": [],
   "source": [
    "class vehicle(object):\n",
    "    def __init__(self, name, max_speed, mileage, capacity):\n",
    "        self.name = name\n",
    "        self.max_speed = max_speed\n",
    "        self.mileage_km = mileage\n",
    "        self.mileage_mile = mileage * 1.6\n",
    "        self.capacity = capacity\n",
    "        \n",
    "    def seating_capacity(self):\n",
    "        return f\"The seating capacity of {self.name} is {self.capacity}\"\n",
    "    \n",
    "    def fare(self):\n",
    "        return self.capacity * 100"
   ]
  },
  {
   "cell_type": "code",
   "execution_count": 34,
   "id": "cfbf0c64",
   "metadata": {},
   "outputs": [],
   "source": [
    "v = vehicle('BMW', 350, 0, 4)"
   ]
  },
  {
   "cell_type": "code",
   "execution_count": 35,
   "id": "3b7c7e7e",
   "metadata": {},
   "outputs": [
    {
     "data": {
      "text/plain": [
       "400"
      ]
     },
     "execution_count": 35,
     "metadata": {},
     "output_type": "execute_result"
    }
   ],
   "source": [
    "v.fare()"
   ]
  },
  {
   "cell_type": "code",
   "execution_count": 38,
   "id": "28961c40",
   "metadata": {},
   "outputs": [],
   "source": [
    "class Bus(vehicle):\n",
    "    def __init__(self, name, max_speed, mileage, capacity, color):\n",
    "        super().__init__(name, max_speed, mileage, capacity)\n",
    "        self.color = color\n",
    "        \n",
    "    def fare(self):\n",
    "        return self.capacity * 100 * 1.1"
   ]
  },
  {
   "cell_type": "code",
   "execution_count": 39,
   "id": "11218498",
   "metadata": {},
   "outputs": [],
   "source": [
    "b = Bus('Yellow', 'school bus', 100, 10000, 200)"
   ]
  },
  {
   "cell_type": "code",
   "execution_count": 40,
   "id": "86089856",
   "metadata": {},
   "outputs": [
    {
     "data": {
      "text/plain": [
       "1100000.0"
      ]
     },
     "execution_count": 40,
     "metadata": {},
     "output_type": "execute_result"
    }
   ],
   "source": [
    "b.fare()"
   ]
  },
  {
   "cell_type": "markdown",
   "id": "450f0d68",
   "metadata": {},
   "source": [
    "This method overriding is not the best practice, because if we change the code on the fare in the parent vehicle class, it won't be inherited down to the Bus class. The best practice is to inherite the method itself as well:"
   ]
  },
  {
   "cell_type": "code",
   "execution_count": 41,
   "id": "c82d4e98",
   "metadata": {},
   "outputs": [],
   "source": [
    "class Bus(vehicle):\n",
    "    def __init__(self, name, max_speed, mileage, capacity, color):\n",
    "        super().__init__(name, max_speed, mileage, capacity)\n",
    "        self.color = color\n",
    "        \n",
    "    def fare(self):\n",
    "        return super().fare() * 1.1"
   ]
  },
  {
   "cell_type": "code",
   "execution_count": 42,
   "id": "63ccbb1f",
   "metadata": {},
   "outputs": [],
   "source": [
    "b = Bus('Yellow', 'school bus', 100, 10000, 200)"
   ]
  },
  {
   "cell_type": "code",
   "execution_count": 43,
   "id": "ba769f55",
   "metadata": {},
   "outputs": [
    {
     "data": {
      "text/plain": [
       "1100000.0"
      ]
     },
     "execution_count": 43,
     "metadata": {},
     "output_type": "execute_result"
    }
   ],
   "source": [
    "b.fare()"
   ]
  },
  {
   "cell_type": "code",
   "execution_count": 44,
   "id": "f72f77df",
   "metadata": {},
   "outputs": [
    {
     "name": "stdout",
     "output_type": "stream",
     "text": [
      "Enter your color: Red\n"
     ]
    }
   ],
   "source": [
    "color = input('Enter your color: ')"
   ]
  },
  {
   "cell_type": "code",
   "execution_count": 47,
   "id": "f2de9707",
   "metadata": {},
   "outputs": [],
   "source": [
    "b = Bus('school bus',100,10000,200,color)"
   ]
  },
  {
   "cell_type": "code",
   "execution_count": 48,
   "id": "e8426e2f",
   "metadata": {},
   "outputs": [
    {
     "data": {
      "text/plain": [
       "{'name': 'school bus',\n",
       " 'max_speed': 100,\n",
       " 'mileage_km': 10000,\n",
       " 'mileage_mile': 16000.0,\n",
       " 'capacity': 200,\n",
       " 'color': 'Red'}"
      ]
     },
     "execution_count": 48,
     "metadata": {},
     "output_type": "execute_result"
    }
   ],
   "source": [
    "b.__dict__"
   ]
  },
  {
   "cell_type": "markdown",
   "id": "c63e8d3a",
   "metadata": {},
   "source": [
    "## 2."
   ]
  },
  {
   "cell_type": "markdown",
   "id": "fa09b189",
   "metadata": {},
   "source": [
    "Given the list of a points where points(i) = point(xi, yi) represents a point on the X-Y plane and an integer k, returns the k closests points to the origin (0, 0). The distance between two points on the X-Y plane is the Euclidian distance."
   ]
  },
  {
   "cell_type": "code",
   "execution_count": 49,
   "id": "778396cc",
   "metadata": {},
   "outputs": [],
   "source": [
    "class point:\n",
    "    def __init__(self, x, y):\n",
    "        self.x = x\n",
    "        self.y = y"
   ]
  },
  {
   "cell_type": "code",
   "execution_count": 50,
   "id": "564820c5",
   "metadata": {},
   "outputs": [],
   "source": [
    "my_points = [point(3, 4), point(6, 8), point(2, 2), point(9, 11)]"
   ]
  },
  {
   "cell_type": "code",
   "execution_count": 51,
   "id": "3107d731",
   "metadata": {},
   "outputs": [
    {
     "data": {
      "text/plain": [
       "[<__main__.point at 0x7fad4849b760>,\n",
       " <__main__.point at 0x7fad4849b460>,\n",
       " <__main__.point at 0x7fad4849bfa0>,\n",
       " <__main__.point at 0x7fad4849b880>]"
      ]
     },
     "execution_count": 51,
     "metadata": {},
     "output_type": "execute_result"
    }
   ],
   "source": [
    "my_points"
   ]
  },
  {
   "cell_type": "code",
   "execution_count": 55,
   "id": "635b5c60",
   "metadata": {},
   "outputs": [],
   "source": [
    "class point:\n",
    "    def __init__(self, x, y):\n",
    "        self.x = x\n",
    "        self.y = y\n",
    "        \n",
    "    def __repr__(self):             # to have a better representation\n",
    "        return f\"point{self.x, self.y}\""
   ]
  },
  {
   "cell_type": "code",
   "execution_count": 56,
   "id": "a7e4ce65",
   "metadata": {},
   "outputs": [],
   "source": [
    "my_points = [point(3, 4), point(6, 8), point(2, 2), point(9, 11)]"
   ]
  },
  {
   "cell_type": "code",
   "execution_count": 57,
   "id": "9cbf3561",
   "metadata": {},
   "outputs": [
    {
     "data": {
      "text/plain": [
       "[point(3, 4), point(6, 8), point(2, 2), point(9, 11)]"
      ]
     },
     "execution_count": 57,
     "metadata": {},
     "output_type": "execute_result"
    }
   ],
   "source": [
    "my_points"
   ]
  },
  {
   "cell_type": "code",
   "execution_count": 58,
   "id": "047e4fa9",
   "metadata": {},
   "outputs": [],
   "source": [
    "class point:\n",
    "    def __init__(self, x, y):\n",
    "        self.x = x\n",
    "        self.y = y\n",
    "        \n",
    "    def __repr__(self):             # to have a better representation\n",
    "        return f\"point{self.x, self.y}\"\n",
    "    \n",
    "    def get_length(self):\n",
    "        return (self.x ** 2 + self.y ** 2)**0.5"
   ]
  },
  {
   "cell_type": "markdown",
   "id": "515ac6b1",
   "metadata": {},
   "source": [
    "The best practice is to use dunder methods:"
   ]
  },
  {
   "cell_type": "code",
   "execution_count": 59,
   "id": "42cb17e7",
   "metadata": {},
   "outputs": [],
   "source": [
    "class point:\n",
    "    def __init__(self, x, y):\n",
    "        self.x = x\n",
    "        self.y = y\n",
    "        \n",
    "    def __repr__(self):             # to have a better representation\n",
    "        return f\"point{self.x, self.y}\"\n",
    "    \n",
    "    def __abs__(self):\n",
    "        return (self.x ** 2 + self.y ** 2)**0.5"
   ]
  },
  {
   "cell_type": "code",
   "execution_count": 60,
   "id": "f88bc3e7",
   "metadata": {},
   "outputs": [],
   "source": [
    "my_points = [point(3, 4), point(6, 8), point(2, 2), point(9, 11)]"
   ]
  },
  {
   "cell_type": "code",
   "execution_count": 61,
   "id": "966dbdb3",
   "metadata": {},
   "outputs": [
    {
     "data": {
      "text/plain": [
       "5.0"
      ]
     },
     "execution_count": 61,
     "metadata": {},
     "output_type": "execute_result"
    }
   ],
   "source": [
    "abs(my_points[0])"
   ]
  },
  {
   "cell_type": "markdown",
   "id": "bbe17718",
   "metadata": {},
   "source": [
    "### `for` loop"
   ]
  },
  {
   "cell_type": "code",
   "execution_count": 63,
   "id": "aad34d95",
   "metadata": {},
   "outputs": [],
   "source": [
    "abs_values = []\n",
    "\n",
    "for point in my_points:\n",
    "    abs_values.append(abs(point))"
   ]
  },
  {
   "cell_type": "code",
   "execution_count": 64,
   "id": "5c18735a",
   "metadata": {},
   "outputs": [
    {
     "data": {
      "text/plain": [
       "[5.0, 10.0, 2.8284271247461903, 14.212670403551895]"
      ]
     },
     "execution_count": 64,
     "metadata": {},
     "output_type": "execute_result"
    }
   ],
   "source": [
    "abs_values"
   ]
  },
  {
   "cell_type": "markdown",
   "id": "26ad63ac",
   "metadata": {},
   "source": [
    "### List Comprehension"
   ]
  },
  {
   "cell_type": "code",
   "execution_count": 65,
   "id": "0af4faf2",
   "metadata": {},
   "outputs": [
    {
     "data": {
      "text/plain": [
       "[5.0, 10.0, 2.8284271247461903, 14.212670403551895]"
      ]
     },
     "execution_count": 65,
     "metadata": {},
     "output_type": "execute_result"
    }
   ],
   "source": [
    "[abs(point) for point in my_points]"
   ]
  },
  {
   "cell_type": "markdown",
   "id": "d998532f",
   "metadata": {},
   "source": [
    "### `map`"
   ]
  },
  {
   "cell_type": "markdown",
   "id": "61b921a7",
   "metadata": {},
   "source": [
    "inputs to the map are a function and an iterable and implemets the function on every element in the iterable."
   ]
  },
  {
   "cell_type": "code",
   "execution_count": 67,
   "id": "3aff65a1",
   "metadata": {},
   "outputs": [
    {
     "data": {
      "text/plain": [
       "<map at 0x7fad4849b1c0>"
      ]
     },
     "execution_count": 67,
     "metadata": {},
     "output_type": "execute_result"
    }
   ],
   "source": [
    "map(abs, my_points) "
   ]
  },
  {
   "cell_type": "code",
   "execution_count": 68,
   "id": "ad4b9ff6",
   "metadata": {},
   "outputs": [
    {
     "data": {
      "text/plain": [
       "[5.0, 10.0, 2.8284271247461903, 14.212670403551895]"
      ]
     },
     "execution_count": 68,
     "metadata": {},
     "output_type": "execute_result"
    }
   ],
   "source": [
    "list(map(abs, my_points))"
   ]
  },
  {
   "cell_type": "markdown",
   "id": "bde9f930",
   "metadata": {},
   "source": [
    "### `filter`"
   ]
  },
  {
   "cell_type": "markdown",
   "id": "1e61d059",
   "metadata": {},
   "source": [
    "Like `map`, but those functions can be used that return `True` or `False`"
   ]
  },
  {
   "cell_type": "code",
   "execution_count": 72,
   "id": "8fea2d55",
   "metadata": {},
   "outputs": [],
   "source": [
    "def func(item):\n",
    "    return abs(item)> 8"
   ]
  },
  {
   "cell_type": "code",
   "execution_count": 73,
   "id": "79c7253c",
   "metadata": {},
   "outputs": [
    {
     "data": {
      "text/plain": [
       "[point(6, 8), point(9, 11)]"
      ]
     },
     "execution_count": 73,
     "metadata": {},
     "output_type": "execute_result"
    }
   ],
   "source": [
    "list(filter(func, my_points))"
   ]
  },
  {
   "cell_type": "code",
   "execution_count": 74,
   "id": "145bc9ec",
   "metadata": {},
   "outputs": [
    {
     "data": {
      "text/plain": [
       "[point(3, 4), point(2, 2)]"
      ]
     },
     "execution_count": 74,
     "metadata": {},
     "output_type": "execute_result"
    }
   ],
   "source": [
    "list(filter(lambda item: abs(item) <= 5, my_points))"
   ]
  },
  {
   "cell_type": "markdown",
   "id": "8eaa0a60",
   "metadata": {},
   "source": [
    "### `sorted`"
   ]
  },
  {
   "cell_type": "markdown",
   "id": "2aab0b6a",
   "metadata": {},
   "source": [
    "First, add a method that compares the items in point class: `greater than`, `less than`"
   ]
  },
  {
   "cell_type": "code",
   "execution_count": 76,
   "id": "e1a47d10",
   "metadata": {},
   "outputs": [],
   "source": [
    "class point:\n",
    "    def __init__(self, x, y):\n",
    "        self.x = x\n",
    "        self.y = y\n",
    "        \n",
    "    def __repr__(self):             # to have a better representation\n",
    "        return f\"point{self.x, self.y}\"\n",
    "    \n",
    "    def __abs__(self):\n",
    "        return (self.x ** 2 + self.y ** 2)**0.5\n",
    "    \n",
    "    def __gt__(self, obj):\n",
    "        return abs(self) > abs(obj)"
   ]
  },
  {
   "cell_type": "code",
   "execution_count": 77,
   "id": "bee35cb5",
   "metadata": {},
   "outputs": [],
   "source": [
    "my_points = [point(3, 4), point(6, 8), point(2, 2), point(9, 11)]"
   ]
  },
  {
   "cell_type": "code",
   "execution_count": 78,
   "id": "aec5e946",
   "metadata": {},
   "outputs": [
    {
     "data": {
      "text/plain": [
       "[point(2, 2), point(3, 4), point(6, 8), point(9, 11)]"
      ]
     },
     "execution_count": 78,
     "metadata": {},
     "output_type": "execute_result"
    }
   ],
   "source": [
    "sorted(my_points)"
   ]
  },
  {
   "cell_type": "code",
   "execution_count": 79,
   "id": "90388649",
   "metadata": {},
   "outputs": [],
   "source": [
    "x = [4, 5, 8, 9, 11, 2]"
   ]
  },
  {
   "cell_type": "code",
   "execution_count": 81,
   "id": "ddb085e4",
   "metadata": {},
   "outputs": [
    {
     "data": {
      "text/plain": [
       "[2, 4, 5, 8, 9, 11]"
      ]
     },
     "execution_count": 81,
     "metadata": {},
     "output_type": "execute_result"
    }
   ],
   "source": [
    "sorted(x)"
   ]
  },
  {
   "cell_type": "code",
   "execution_count": 82,
   "id": "c69a029f",
   "metadata": {},
   "outputs": [],
   "source": [
    "x.sort()"
   ]
  },
  {
   "cell_type": "code",
   "execution_count": 83,
   "id": "fdf88d63",
   "metadata": {},
   "outputs": [
    {
     "data": {
      "text/plain": [
       "[2, 4, 5, 8, 9, 11]"
      ]
     },
     "execution_count": 83,
     "metadata": {},
     "output_type": "execute_result"
    }
   ],
   "source": [
    "x"
   ]
  }
 ],
 "metadata": {
  "kernelspec": {
   "display_name": "Python 3 (ipykernel)",
   "language": "python",
   "name": "python3"
  },
  "language_info": {
   "codemirror_mode": {
    "name": "ipython",
    "version": 3
   },
   "file_extension": ".py",
   "mimetype": "text/x-python",
   "name": "python",
   "nbconvert_exporter": "python",
   "pygments_lexer": "ipython3",
   "version": "3.9.7"
  }
 },
 "nbformat": 4,
 "nbformat_minor": 5
}
