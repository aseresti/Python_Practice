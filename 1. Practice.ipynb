{
 "cells": [
  {
   "cell_type": "markdown",
   "id": "6701900f",
   "metadata": {},
   "source": [
    "# Practice Session"
   ]
  },
  {
   "cell_type": "code",
   "execution_count": 1,
   "id": "e138fd68",
   "metadata": {},
   "outputs": [],
   "source": [
    "c = 1 + 2j"
   ]
  },
  {
   "cell_type": "code",
   "execution_count": 2,
   "id": "77c6ac82",
   "metadata": {},
   "outputs": [
    {
     "data": {
      "text/plain": [
       "float"
      ]
     },
     "execution_count": 2,
     "metadata": {},
     "output_type": "execute_result"
    }
   ],
   "source": [
    "type(c.imag)"
   ]
  },
  {
   "cell_type": "markdown",
   "id": "66476ffc",
   "metadata": {},
   "source": [
    "### 1. Print Output"
   ]
  },
  {
   "cell_type": "code",
   "execution_count": 3,
   "id": "f989e7be",
   "metadata": {},
   "outputs": [],
   "source": [
    "x, y = [1, 2, 3], ['1', '2', '3']"
   ]
  },
  {
   "cell_type": "code",
   "execution_count": 4,
   "id": "cfe98819",
   "metadata": {},
   "outputs": [
    {
     "name": "stdout",
     "output_type": "stream",
     "text": [
      "[1, 2, 3, 1, 2, 3, 1, 2, 3] ['1', '2', '3', '1', '2', '3', '1', '2', '3']\n"
     ]
    }
   ],
   "source": [
    "print(x*3, y*3) # a number times a list "
   ]
  },
  {
   "cell_type": "code",
   "execution_count": 5,
   "id": "6a390bbd",
   "metadata": {},
   "outputs": [],
   "source": [
    "import numpy as np"
   ]
  },
  {
   "cell_type": "code",
   "execution_count": 6,
   "id": "836d3a27",
   "metadata": {},
   "outputs": [
    {
     "data": {
      "text/plain": [
       "array([3, 6, 9])"
      ]
     },
     "execution_count": 6,
     "metadata": {},
     "output_type": "execute_result"
    }
   ],
   "source": [
    "np.array([1, 2, 3])*3"
   ]
  },
  {
   "cell_type": "markdown",
   "id": "ed9c17ed",
   "metadata": {},
   "source": [
    "### 2. Type of *args and *kwargs"
   ]
  },
  {
   "cell_type": "code",
   "execution_count": 20,
   "id": "363d1ee9",
   "metadata": {},
   "outputs": [],
   "source": [
    "def tokenize(sentence):\n",
    "    return sentence.split()"
   ]
  },
  {
   "cell_type": "code",
   "execution_count": 8,
   "id": "3e8c2e35",
   "metadata": {},
   "outputs": [],
   "source": [
    "x = 'Anahita Abbasnejad Seresti'"
   ]
  },
  {
   "cell_type": "code",
   "execution_count": 9,
   "id": "07114384",
   "metadata": {},
   "outputs": [
    {
     "data": {
      "text/plain": [
       "['Anahita', 'Abbasnejad', 'Seresti']"
      ]
     },
     "execution_count": 9,
     "metadata": {},
     "output_type": "execute_result"
    }
   ],
   "source": [
    "x.split()"
   ]
  },
  {
   "cell_type": "code",
   "execution_count": 10,
   "id": "b1726212",
   "metadata": {},
   "outputs": [],
   "source": [
    "x = \"Ana's book\""
   ]
  },
  {
   "cell_type": "code",
   "execution_count": 11,
   "id": "116e4815",
   "metadata": {},
   "outputs": [
    {
     "data": {
      "text/plain": [
       "[\"Ana's\", 'book']"
      ]
     },
     "execution_count": 11,
     "metadata": {},
     "output_type": "execute_result"
    }
   ],
   "source": [
    "x.split()"
   ]
  },
  {
   "cell_type": "markdown",
   "id": "1732e4c3",
   "metadata": {},
   "source": [
    "a tokenizer is the natural language processor and it breaks the text into small chunks. "
   ]
  },
  {
   "cell_type": "code",
   "execution_count": 9,
   "id": "d52b6a36",
   "metadata": {},
   "outputs": [],
   "source": [
    "from nltk.tokenize import word_tokenize"
   ]
  },
  {
   "cell_type": "code",
   "execution_count": 11,
   "id": "d3ed415c",
   "metadata": {},
   "outputs": [],
   "source": [
    "import nltk"
   ]
  },
  {
   "cell_type": "code",
   "execution_count": 12,
   "id": "b2a65844",
   "metadata": {},
   "outputs": [
    {
     "name": "stderr",
     "output_type": "stream",
     "text": [
      "[nltk_data] Downloading package punkt to /Users/ana/nltk_data...\n",
      "[nltk_data]   Unzipping tokenizers/punkt.zip.\n"
     ]
    },
    {
     "data": {
      "text/plain": [
       "True"
      ]
     },
     "execution_count": 12,
     "metadata": {},
     "output_type": "execute_result"
    }
   ],
   "source": [
    "nltk.download('punkt')"
   ]
  },
  {
   "cell_type": "code",
   "execution_count": 13,
   "id": "58165078",
   "metadata": {},
   "outputs": [],
   "source": [
    "def tokenizer(*args):\n",
    "    tokens = []\n",
    "    \n",
    "    for s in args:\n",
    "        tokens.extend(word_tokenize(s))\n",
    "        \n",
    "    return tokens"
   ]
  },
  {
   "cell_type": "code",
   "execution_count": 14,
   "id": "0f22a1fc",
   "metadata": {},
   "outputs": [
    {
     "data": {
      "text/plain": [
       "['Ana', 'is', 'going', 'to', 'school', 'Ana', \"'s\", 'book']"
      ]
     },
     "execution_count": 14,
     "metadata": {},
     "output_type": "execute_result"
    }
   ],
   "source": [
    "tokenizer('Ana is going to school', \"Ana's book\",'') # the library nltk must be import"
   ]
  },
  {
   "cell_type": "code",
   "execution_count": 15,
   "id": "898ba4f9",
   "metadata": {},
   "outputs": [],
   "source": [
    "content = open('file.txt').read()"
   ]
  },
  {
   "cell_type": "code",
   "execution_count": 16,
   "id": "d5713a82",
   "metadata": {},
   "outputs": [
    {
     "data": {
      "text/plain": [
       "['Biomedical',\n",
       " 'engineering',\n",
       " '(',\n",
       " 'BME',\n",
       " ')',\n",
       " 'or',\n",
       " 'medical',\n",
       " 'engineering',\n",
       " 'is',\n",
       " 'the',\n",
       " 'application',\n",
       " 'of',\n",
       " 'engineering',\n",
       " 'principles',\n",
       " 'and',\n",
       " 'design',\n",
       " 'concepts',\n",
       " 'to',\n",
       " 'medicine',\n",
       " 'and',\n",
       " 'biology',\n",
       " 'for',\n",
       " 'healthcare',\n",
       " 'purposes',\n",
       " '(',\n",
       " 'e.g.',\n",
       " ',',\n",
       " 'diagnostic',\n",
       " 'or',\n",
       " 'therapeutic',\n",
       " ')',\n",
       " '.',\n",
       " 'BME',\n",
       " 'is',\n",
       " 'also',\n",
       " 'traditionally',\n",
       " 'known',\n",
       " 'as',\n",
       " '``',\n",
       " 'bioengineering',\n",
       " \"''\",\n",
       " ',',\n",
       " 'but',\n",
       " 'this',\n",
       " 'term',\n",
       " 'has',\n",
       " 'come',\n",
       " 'to',\n",
       " 'also',\n",
       " 'refer',\n",
       " 'to',\n",
       " 'biological',\n",
       " 'engineering',\n",
       " '.',\n",
       " 'This',\n",
       " 'field',\n",
       " 'seeks',\n",
       " 'to',\n",
       " 'close',\n",
       " 'the',\n",
       " 'gap',\n",
       " 'between',\n",
       " 'engineering',\n",
       " 'and',\n",
       " 'medicine',\n",
       " ',',\n",
       " 'combining',\n",
       " 'the',\n",
       " 'design',\n",
       " 'and',\n",
       " 'problem-solving',\n",
       " 'skills',\n",
       " 'of',\n",
       " 'engineering',\n",
       " 'with',\n",
       " 'medical',\n",
       " 'biological',\n",
       " 'sciences',\n",
       " 'to',\n",
       " 'advance',\n",
       " 'health',\n",
       " 'care',\n",
       " 'treatment',\n",
       " ',',\n",
       " 'including',\n",
       " 'diagnosis',\n",
       " ',',\n",
       " 'monitoring',\n",
       " ',',\n",
       " 'and',\n",
       " 'therapy',\n",
       " '.',\n",
       " '[',\n",
       " '1',\n",
       " ']',\n",
       " '[',\n",
       " '2',\n",
       " ']',\n",
       " 'Also',\n",
       " 'included',\n",
       " 'under',\n",
       " 'the',\n",
       " 'scope',\n",
       " 'of',\n",
       " 'a',\n",
       " 'biomedical',\n",
       " 'engineer',\n",
       " 'is',\n",
       " 'the',\n",
       " 'management',\n",
       " 'of',\n",
       " 'current',\n",
       " 'medical',\n",
       " 'equipment',\n",
       " 'in',\n",
       " 'hospitals',\n",
       " 'while',\n",
       " 'adhering',\n",
       " 'to',\n",
       " 'relevant',\n",
       " 'industry',\n",
       " 'standards',\n",
       " '.',\n",
       " 'This',\n",
       " 'involves',\n",
       " 'procurement',\n",
       " ',',\n",
       " 'routine',\n",
       " 'testing',\n",
       " ',',\n",
       " 'preventive',\n",
       " 'maintenance',\n",
       " ',',\n",
       " 'and',\n",
       " 'making',\n",
       " 'equipment',\n",
       " 'recommendations',\n",
       " ',',\n",
       " 'a',\n",
       " 'role',\n",
       " 'also',\n",
       " 'known',\n",
       " 'as',\n",
       " 'a',\n",
       " 'Biomedical',\n",
       " 'Equipment',\n",
       " 'Technician',\n",
       " '(',\n",
       " 'BMET',\n",
       " ')',\n",
       " 'or',\n",
       " 'as',\n",
       " 'clinical',\n",
       " 'engineering',\n",
       " '.',\n",
       " 'Biomedical',\n",
       " 'engineering',\n",
       " 'has',\n",
       " 'recently',\n",
       " 'emerged',\n",
       " 'as',\n",
       " 'its',\n",
       " 'own',\n",
       " 'study',\n",
       " ',',\n",
       " 'as',\n",
       " 'compared',\n",
       " 'to',\n",
       " 'many',\n",
       " 'other',\n",
       " 'engineering',\n",
       " 'fields',\n",
       " '.',\n",
       " 'Such',\n",
       " 'an',\n",
       " 'evolution',\n",
       " 'is',\n",
       " 'common',\n",
       " 'as',\n",
       " 'a',\n",
       " 'new',\n",
       " 'field',\n",
       " 'transition',\n",
       " 'from',\n",
       " 'being',\n",
       " 'an',\n",
       " 'interdisciplinary',\n",
       " 'specialization',\n",
       " 'among',\n",
       " 'already-established',\n",
       " 'fields',\n",
       " 'to',\n",
       " 'being',\n",
       " 'considered',\n",
       " 'a',\n",
       " 'field',\n",
       " 'in',\n",
       " 'itself',\n",
       " '.',\n",
       " 'Much',\n",
       " 'of',\n",
       " 'the',\n",
       " 'work',\n",
       " 'in',\n",
       " 'biomedical',\n",
       " 'engineering',\n",
       " 'consists',\n",
       " 'of',\n",
       " 'research',\n",
       " 'and',\n",
       " 'development',\n",
       " ',',\n",
       " 'spanning',\n",
       " 'a',\n",
       " 'broad',\n",
       " 'array',\n",
       " 'of',\n",
       " 'subfields',\n",
       " '(',\n",
       " 'see',\n",
       " 'below',\n",
       " ')',\n",
       " '.',\n",
       " 'Prominent',\n",
       " 'biomedical',\n",
       " 'engineering',\n",
       " 'applications',\n",
       " 'include',\n",
       " 'the',\n",
       " 'development',\n",
       " 'of',\n",
       " 'biocompatible',\n",
       " 'prostheses',\n",
       " ',',\n",
       " 'various',\n",
       " 'diagnostic',\n",
       " 'and',\n",
       " 'therapeutic',\n",
       " 'medical',\n",
       " 'devices',\n",
       " 'ranging',\n",
       " 'from',\n",
       " 'clinical',\n",
       " 'equipment',\n",
       " 'to',\n",
       " 'micro-implants',\n",
       " ',',\n",
       " 'common',\n",
       " 'imaging',\n",
       " 'equipment',\n",
       " 'such',\n",
       " 'as',\n",
       " 'MRIs',\n",
       " 'and',\n",
       " 'EKG/ECGs',\n",
       " ',',\n",
       " 'regenerative',\n",
       " 'tissue',\n",
       " 'growth',\n",
       " ',',\n",
       " 'pharmaceutical',\n",
       " 'drugs',\n",
       " 'and',\n",
       " 'therapeutic',\n",
       " 'biologicals',\n",
       " '.']"
      ]
     },
     "execution_count": 16,
     "metadata": {},
     "output_type": "execute_result"
    }
   ],
   "source": [
    "tokenizer(content)"
   ]
  },
  {
   "cell_type": "code",
   "execution_count": 20,
   "id": "04c2e91c",
   "metadata": {},
   "outputs": [],
   "source": [
    "from collections import Counter"
   ]
  },
  {
   "cell_type": "code",
   "execution_count": 18,
   "id": "70dc7577",
   "metadata": {},
   "outputs": [
    {
     "data": {
      "text/plain": [
       "Counter({'Biomedical': 3,\n",
       "         'engineering': 11,\n",
       "         '(': 4,\n",
       "         'BME': 2,\n",
       "         ')': 4,\n",
       "         'or': 3,\n",
       "         'medical': 4,\n",
       "         'is': 4,\n",
       "         'the': 7,\n",
       "         'application': 1,\n",
       "         'of': 8,\n",
       "         'principles': 1,\n",
       "         'and': 10,\n",
       "         'design': 2,\n",
       "         'concepts': 1,\n",
       "         'to': 9,\n",
       "         'medicine': 2,\n",
       "         'biology': 1,\n",
       "         'for': 1,\n",
       "         'healthcare': 1,\n",
       "         'purposes': 1,\n",
       "         'e.g.': 1,\n",
       "         ',': 16,\n",
       "         'diagnostic': 2,\n",
       "         'therapeutic': 3,\n",
       "         '.': 9,\n",
       "         'also': 3,\n",
       "         'traditionally': 1,\n",
       "         'known': 2,\n",
       "         'as': 7,\n",
       "         '``': 1,\n",
       "         'bioengineering': 1,\n",
       "         \"''\": 1,\n",
       "         'but': 1,\n",
       "         'this': 1,\n",
       "         'term': 1,\n",
       "         'has': 2,\n",
       "         'come': 1,\n",
       "         'refer': 1,\n",
       "         'biological': 2,\n",
       "         'This': 2,\n",
       "         'field': 3,\n",
       "         'seeks': 1,\n",
       "         'close': 1,\n",
       "         'gap': 1,\n",
       "         'between': 1,\n",
       "         'combining': 1,\n",
       "         'problem-solving': 1,\n",
       "         'skills': 1,\n",
       "         'with': 1,\n",
       "         'sciences': 1,\n",
       "         'advance': 1,\n",
       "         'health': 1,\n",
       "         'care': 1,\n",
       "         'treatment': 1,\n",
       "         'including': 1,\n",
       "         'diagnosis': 1,\n",
       "         'monitoring': 1,\n",
       "         'therapy': 1,\n",
       "         '[': 2,\n",
       "         '1': 1,\n",
       "         ']': 2,\n",
       "         '2': 1,\n",
       "         'Also': 1,\n",
       "         'included': 1,\n",
       "         'under': 1,\n",
       "         'scope': 1,\n",
       "         'a': 6,\n",
       "         'biomedical': 3,\n",
       "         'engineer': 1,\n",
       "         'management': 1,\n",
       "         'current': 1,\n",
       "         'equipment': 4,\n",
       "         'in': 3,\n",
       "         'hospitals': 1,\n",
       "         'while': 1,\n",
       "         'adhering': 1,\n",
       "         'relevant': 1,\n",
       "         'industry': 1,\n",
       "         'standards': 1,\n",
       "         'involves': 1,\n",
       "         'procurement': 1,\n",
       "         'routine': 1,\n",
       "         'testing': 1,\n",
       "         'preventive': 1,\n",
       "         'maintenance': 1,\n",
       "         'making': 1,\n",
       "         'recommendations': 1,\n",
       "         'role': 1,\n",
       "         'Equipment': 1,\n",
       "         'Technician': 1,\n",
       "         'BMET': 1,\n",
       "         'clinical': 2,\n",
       "         'recently': 1,\n",
       "         'emerged': 1,\n",
       "         'its': 1,\n",
       "         'own': 1,\n",
       "         'study': 1,\n",
       "         'compared': 1,\n",
       "         'many': 1,\n",
       "         'other': 1,\n",
       "         'fields': 2,\n",
       "         'Such': 1,\n",
       "         'an': 2,\n",
       "         'evolution': 1,\n",
       "         'common': 2,\n",
       "         'new': 1,\n",
       "         'transition': 1,\n",
       "         'from': 2,\n",
       "         'being': 2,\n",
       "         'interdisciplinary': 1,\n",
       "         'specialization': 1,\n",
       "         'among': 1,\n",
       "         'already-established': 1,\n",
       "         'considered': 1,\n",
       "         'itself': 1,\n",
       "         'Much': 1,\n",
       "         'work': 1,\n",
       "         'consists': 1,\n",
       "         'research': 1,\n",
       "         'development': 2,\n",
       "         'spanning': 1,\n",
       "         'broad': 1,\n",
       "         'array': 1,\n",
       "         'subfields': 1,\n",
       "         'see': 1,\n",
       "         'below': 1,\n",
       "         'Prominent': 1,\n",
       "         'applications': 1,\n",
       "         'include': 1,\n",
       "         'biocompatible': 1,\n",
       "         'prostheses': 1,\n",
       "         'various': 1,\n",
       "         'devices': 1,\n",
       "         'ranging': 1,\n",
       "         'micro-implants': 1,\n",
       "         'imaging': 1,\n",
       "         'such': 1,\n",
       "         'MRIs': 1,\n",
       "         'EKG/ECGs': 1,\n",
       "         'regenerative': 1,\n",
       "         'tissue': 1,\n",
       "         'growth': 1,\n",
       "         'pharmaceutical': 1,\n",
       "         'drugs': 1,\n",
       "         'biologicals': 1})"
      ]
     },
     "execution_count": 18,
     "metadata": {},
     "output_type": "execute_result"
    }
   ],
   "source": [
    "Counter(tokenizer(content))"
   ]
  },
  {
   "cell_type": "code",
   "execution_count": 21,
   "id": "ccec4fcd",
   "metadata": {},
   "outputs": [
    {
     "data": {
      "text/plain": [
       "[(',', 16),\n",
       " ('engineering', 11),\n",
       " ('and', 10),\n",
       " ('to', 9),\n",
       " ('.', 9),\n",
       " ('of', 8),\n",
       " ('the', 7),\n",
       " ('as', 7),\n",
       " ('a', 6),\n",
       " ('(', 4),\n",
       " (')', 4),\n",
       " ('medical', 4),\n",
       " ('is', 4),\n",
       " ('equipment', 4),\n",
       " ('Biomedical', 3),\n",
       " ('or', 3),\n",
       " ('therapeutic', 3),\n",
       " ('also', 3),\n",
       " ('field', 3),\n",
       " ('biomedical', 3),\n",
       " ('in', 3),\n",
       " ('BME', 2),\n",
       " ('design', 2),\n",
       " ('medicine', 2),\n",
       " ('diagnostic', 2),\n",
       " ('known', 2),\n",
       " ('has', 2),\n",
       " ('biological', 2),\n",
       " ('This', 2),\n",
       " ('[', 2),\n",
       " (']', 2),\n",
       " ('clinical', 2),\n",
       " ('fields', 2),\n",
       " ('an', 2),\n",
       " ('common', 2),\n",
       " ('from', 2),\n",
       " ('being', 2),\n",
       " ('development', 2),\n",
       " ('application', 1),\n",
       " ('principles', 1),\n",
       " ('concepts', 1),\n",
       " ('biology', 1),\n",
       " ('for', 1),\n",
       " ('healthcare', 1),\n",
       " ('purposes', 1),\n",
       " ('e.g.', 1),\n",
       " ('traditionally', 1),\n",
       " ('``', 1),\n",
       " ('bioengineering', 1),\n",
       " (\"''\", 1),\n",
       " ('but', 1),\n",
       " ('this', 1),\n",
       " ('term', 1),\n",
       " ('come', 1),\n",
       " ('refer', 1),\n",
       " ('seeks', 1),\n",
       " ('close', 1),\n",
       " ('gap', 1),\n",
       " ('between', 1),\n",
       " ('combining', 1),\n",
       " ('problem-solving', 1),\n",
       " ('skills', 1),\n",
       " ('with', 1),\n",
       " ('sciences', 1),\n",
       " ('advance', 1),\n",
       " ('health', 1),\n",
       " ('care', 1),\n",
       " ('treatment', 1),\n",
       " ('including', 1),\n",
       " ('diagnosis', 1),\n",
       " ('monitoring', 1),\n",
       " ('therapy', 1),\n",
       " ('1', 1),\n",
       " ('2', 1),\n",
       " ('Also', 1),\n",
       " ('included', 1),\n",
       " ('under', 1),\n",
       " ('scope', 1),\n",
       " ('engineer', 1),\n",
       " ('management', 1),\n",
       " ('current', 1),\n",
       " ('hospitals', 1),\n",
       " ('while', 1),\n",
       " ('adhering', 1),\n",
       " ('relevant', 1),\n",
       " ('industry', 1),\n",
       " ('standards', 1),\n",
       " ('involves', 1),\n",
       " ('procurement', 1),\n",
       " ('routine', 1),\n",
       " ('testing', 1),\n",
       " ('preventive', 1),\n",
       " ('maintenance', 1),\n",
       " ('making', 1),\n",
       " ('recommendations', 1),\n",
       " ('role', 1),\n",
       " ('Equipment', 1),\n",
       " ('Technician', 1),\n",
       " ('BMET', 1),\n",
       " ('recently', 1),\n",
       " ('emerged', 1),\n",
       " ('its', 1),\n",
       " ('own', 1),\n",
       " ('study', 1),\n",
       " ('compared', 1),\n",
       " ('many', 1),\n",
       " ('other', 1),\n",
       " ('Such', 1),\n",
       " ('evolution', 1),\n",
       " ('new', 1),\n",
       " ('transition', 1),\n",
       " ('interdisciplinary', 1),\n",
       " ('specialization', 1),\n",
       " ('among', 1),\n",
       " ('already-established', 1),\n",
       " ('considered', 1),\n",
       " ('itself', 1),\n",
       " ('Much', 1),\n",
       " ('work', 1),\n",
       " ('consists', 1),\n",
       " ('research', 1),\n",
       " ('spanning', 1),\n",
       " ('broad', 1),\n",
       " ('array', 1),\n",
       " ('subfields', 1),\n",
       " ('see', 1),\n",
       " ('below', 1),\n",
       " ('Prominent', 1),\n",
       " ('applications', 1),\n",
       " ('include', 1),\n",
       " ('biocompatible', 1),\n",
       " ('prostheses', 1),\n",
       " ('various', 1),\n",
       " ('devices', 1),\n",
       " ('ranging', 1),\n",
       " ('micro-implants', 1),\n",
       " ('imaging', 1),\n",
       " ('such', 1),\n",
       " ('MRIs', 1),\n",
       " ('EKG/ECGs', 1),\n",
       " ('regenerative', 1),\n",
       " ('tissue', 1),\n",
       " ('growth', 1),\n",
       " ('pharmaceutical', 1),\n",
       " ('drugs', 1),\n",
       " ('biologicals', 1)]"
      ]
     },
     "execution_count": 21,
     "metadata": {},
     "output_type": "execute_result"
    }
   ],
   "source": [
    "Counter(tokenizer(content)).most_common()"
   ]
  },
  {
   "cell_type": "code",
   "execution_count": 22,
   "id": "b4c37bff",
   "metadata": {},
   "outputs": [],
   "source": [
    "from wordcloud import WordCloud"
   ]
  },
  {
   "cell_type": "code",
   "execution_count": 23,
   "id": "522897b8",
   "metadata": {},
   "outputs": [],
   "source": [
    "wordcloud = WordCloud().generate(content)"
   ]
  },
  {
   "cell_type": "code",
   "execution_count": 24,
   "id": "2d1813e4",
   "metadata": {},
   "outputs": [
    {
     "data": {
      "text/plain": [
       "(-0.5, 399.5, 199.5, -0.5)"
      ]
     },
     "execution_count": 24,
     "metadata": {},
     "output_type": "execute_result"
    },
    {
     "data": {
      "image/png": "[encoded data removed]",
      "text/plain": [
       "<Figure size 432x288 with 1 Axes>"
      ]
     },
     "metadata": {
      "needs_background": "light"
     },
     "output_type": "display_data"
    }
   ],
   "source": [
    "import matplotlib.pyplot as plt\n",
    "plt.imshow(wordcloud, interpolation = 'bilinear')\n",
    "plt.axis(\"off\")\n",
    "\n"
   ]
  },
  {
   "cell_type": "code",
   "execution_count": 26,
   "id": "89498e9a",
   "metadata": {},
   "outputs": [
    {
     "data": {
      "image/png": "[encoded data removed]",
      "text/plain": [
       "<Figure size 432x288 with 1 Axes>"
      ]
     },
     "metadata": {
      "needs_background": "light"
     },
     "output_type": "display_data"
    }
   ],
   "source": [
    "wordcloud = WordCloud(background_color = 'white',max_font_size = 40).generate(content)\n",
    "plt.figure()\n",
    "plt.imshow(wordcloud, interpolation = 'bilinear')\n",
    "plt.axis(\"off\")\n",
    "plt.show()"
   ]
  },
  {
   "cell_type": "markdown",
   "id": "0cd1d645",
   "metadata": {},
   "source": [
    "### 3. Define Tuple with length of 1"
   ]
  },
  {
   "cell_type": "code",
   "execution_count": 27,
   "id": "7b543535",
   "metadata": {},
   "outputs": [],
   "source": [
    "x = ('Ana',)"
   ]
  },
  {
   "cell_type": "code",
   "execution_count": 28,
   "id": "3cad8d89",
   "metadata": {},
   "outputs": [
    {
     "data": {
      "text/plain": [
       "tuple"
      ]
     },
     "execution_count": 28,
     "metadata": {},
     "output_type": "execute_result"
    }
   ],
   "source": [
    "type(x)"
   ]
  },
  {
   "cell_type": "code",
   "execution_count": 29,
   "id": "32157f09",
   "metadata": {},
   "outputs": [],
   "source": [
    "x = ('Ana')"
   ]
  },
  {
   "cell_type": "code",
   "execution_count": 30,
   "id": "7abab494",
   "metadata": {},
   "outputs": [
    {
     "data": {
      "text/plain": [
       "str"
      ]
     },
     "execution_count": 30,
     "metadata": {},
     "output_type": "execute_result"
    }
   ],
   "source": [
    "type(x)"
   ]
  },
  {
   "cell_type": "markdown",
   "id": "8e3685dd",
   "metadata": {},
   "source": [
    "### 4. "
   ]
  },
  {
   "cell_type": "code",
   "execution_count": 31,
   "id": "b30f7b64",
   "metadata": {},
   "outputs": [],
   "source": [
    "x = ['1', '2', '3']"
   ]
  },
  {
   "cell_type": "code",
   "execution_count": 32,
   "id": "cc04f0e7",
   "metadata": {},
   "outputs": [],
   "source": [
    "y = ''.join(x)"
   ]
  },
  {
   "cell_type": "code",
   "execution_count": 33,
   "id": "06c29c77",
   "metadata": {},
   "outputs": [
    {
     "name": "stdout",
     "output_type": "stream",
     "text": [
      "123\n"
     ]
    }
   ],
   "source": [
    "print(y)"
   ]
  },
  {
   "cell_type": "code",
   "execution_count": 34,
   "id": "13e4e5dd",
   "metadata": {},
   "outputs": [],
   "source": [
    "x = ['1','2',3]"
   ]
  },
  {
   "cell_type": "code",
   "execution_count": 35,
   "id": "e3e390ac",
   "metadata": {},
   "outputs": [
    {
     "ename": "TypeError",
     "evalue": "sequence item 2: expected str instance, int found",
     "output_type": "error",
     "traceback": [
      "\u001b[0;31m---------------------------------------------------------------------------\u001b[0m",
      "\u001b[0;31mTypeError\u001b[0m                                 Traceback (most recent call last)",
      "\u001b[0;32m/var/folders/05/bygg4rdj3n7543jkngl6k6z40000gn/T/ipykernel_83435/2687354810.py\u001b[0m in \u001b[0;36m<module>\u001b[0;34m\u001b[0m\n\u001b[0;32m----> 1\u001b[0;31m \u001b[0my\u001b[0m \u001b[0;34m=\u001b[0m \u001b[0;34m''\u001b[0m\u001b[0;34m.\u001b[0m\u001b[0mjoin\u001b[0m\u001b[0;34m(\u001b[0m\u001b[0mx\u001b[0m\u001b[0;34m)\u001b[0m\u001b[0;34m\u001b[0m\u001b[0;34m\u001b[0m\u001b[0m\n\u001b[0m",
      "\u001b[0;31mTypeError\u001b[0m: sequence item 2: expected str instance, int found"
     ]
    }
   ],
   "source": [
    "y = ''.join(x)"
   ]
  },
  {
   "cell_type": "code",
   "execution_count": 36,
   "id": "3a8d73b0",
   "metadata": {},
   "outputs": [
    {
     "data": {
      "text/plain": [
       "0"
      ]
     },
     "execution_count": 36,
     "metadata": {},
     "output_type": "execute_result"
    }
   ],
   "source": [
    "y.find('1')"
   ]
  },
  {
   "cell_type": "code",
   "execution_count": 37,
   "id": "10a9d627",
   "metadata": {},
   "outputs": [
    {
     "data": {
      "text/plain": [
       "True"
      ]
     },
     "execution_count": 37,
     "metadata": {},
     "output_type": "execute_result"
    }
   ],
   "source": [
    "'1' in x"
   ]
  },
  {
   "cell_type": "code",
   "execution_count": 38,
   "id": "9ea5cbe3",
   "metadata": {},
   "outputs": [
    {
     "data": {
      "text/plain": [
       "True"
      ]
     },
     "execution_count": 38,
     "metadata": {},
     "output_type": "execute_result"
    }
   ],
   "source": [
    "'1' in y"
   ]
  },
  {
   "cell_type": "code",
   "execution_count": 39,
   "id": "8352f742",
   "metadata": {},
   "outputs": [
    {
     "data": {
      "text/plain": [
       "list"
      ]
     },
     "execution_count": 39,
     "metadata": {},
     "output_type": "execute_result"
    }
   ],
   "source": [
    "type(x)"
   ]
  },
  {
   "cell_type": "code",
   "execution_count": 40,
   "id": "07d7e3df",
   "metadata": {},
   "outputs": [
    {
     "data": {
      "text/plain": [
       "str"
      ]
     },
     "execution_count": 40,
     "metadata": {},
     "output_type": "execute_result"
    }
   ],
   "source": [
    "type(y)"
   ]
  },
  {
   "cell_type": "code",
   "execution_count": 41,
   "id": "6a0eb486",
   "metadata": {},
   "outputs": [],
   "source": [
    "z = x"
   ]
  },
  {
   "cell_type": "code",
   "execution_count": 42,
   "id": "41b36ca0",
   "metadata": {},
   "outputs": [],
   "source": [
    "z *= 2"
   ]
  },
  {
   "cell_type": "code",
   "execution_count": 43,
   "id": "6378520e",
   "metadata": {},
   "outputs": [
    {
     "name": "stdout",
     "output_type": "stream",
     "text": [
      "['1', '2', 3, '1', '2', 3]\n"
     ]
    }
   ],
   "source": [
    "print(z)"
   ]
  },
  {
   "cell_type": "code",
   "execution_count": 44,
   "id": "084c4609",
   "metadata": {},
   "outputs": [
    {
     "data": {
      "text/plain": [
       "'1'"
      ]
     },
     "execution_count": 44,
     "metadata": {},
     "output_type": "execute_result"
    }
   ],
   "source": [
    "x[0]"
   ]
  },
  {
   "cell_type": "code",
   "execution_count": 45,
   "id": "c4c50972",
   "metadata": {},
   "outputs": [],
   "source": [
    "x[0] = 0"
   ]
  },
  {
   "cell_type": "code",
   "execution_count": 46,
   "id": "5e863254",
   "metadata": {},
   "outputs": [
    {
     "name": "stdout",
     "output_type": "stream",
     "text": [
      "[0, '2', 3, '1', '2', 3]\n"
     ]
    }
   ],
   "source": [
    "print(x)"
   ]
  },
  {
   "cell_type": "code",
   "execution_count": 47,
   "id": "ecfd87c4",
   "metadata": {},
   "outputs": [
    {
     "name": "stdout",
     "output_type": "stream",
     "text": [
      "[0, '2', 3, '1', '2', 3]\n"
     ]
    }
   ],
   "source": [
    "print(z)"
   ]
  },
  {
   "cell_type": "code",
   "execution_count": 48,
   "id": "e6804bbc",
   "metadata": {},
   "outputs": [],
   "source": [
    "s1 = 'Ana'"
   ]
  },
  {
   "cell_type": "code",
   "execution_count": 49,
   "id": "579f0abb",
   "metadata": {},
   "outputs": [],
   "source": [
    "L1 = list(s1)"
   ]
  },
  {
   "cell_type": "code",
   "execution_count": 50,
   "id": "7fb767d5",
   "metadata": {},
   "outputs": [
    {
     "name": "stdout",
     "output_type": "stream",
     "text": [
      "['A', 'n', 'a']\n"
     ]
    }
   ],
   "source": [
    "print(L1)"
   ]
  },
  {
   "cell_type": "code",
   "execution_count": 52,
   "id": "a706e7dd",
   "metadata": {},
   "outputs": [
    {
     "name": "stdout",
     "output_type": "stream",
     "text": [
      "found\n"
     ]
    }
   ],
   "source": [
    "if y.find('10') == '-1':\n",
    "    print('not found')\n",
    "else:\n",
    "    print('found')"
   ]
  },
  {
   "cell_type": "code",
   "execution_count": 53,
   "id": "cbc442ed",
   "metadata": {},
   "outputs": [
    {
     "ename": "ValueError",
     "evalue": "substring not found",
     "output_type": "error",
     "traceback": [
      "\u001b[0;31m---------------------------------------------------------------------------\u001b[0m",
      "\u001b[0;31mValueError\u001b[0m                                Traceback (most recent call last)",
      "\u001b[0;32m/var/folders/05/bygg4rdj3n7543jkngl6k6z40000gn/T/ipykernel_83435/3777697216.py\u001b[0m in \u001b[0;36m<module>\u001b[0;34m\u001b[0m\n\u001b[0;32m----> 1\u001b[0;31m \u001b[0my\u001b[0m\u001b[0;34m.\u001b[0m\u001b[0mindex\u001b[0m\u001b[0;34m(\u001b[0m\u001b[0;34m'10'\u001b[0m\u001b[0;34m)\u001b[0m\u001b[0;34m\u001b[0m\u001b[0;34m\u001b[0m\u001b[0m\n\u001b[0m",
      "\u001b[0;31mValueError\u001b[0m: substring not found"
     ]
    }
   ],
   "source": [
    "y.index('10')"
   ]
  },
  {
   "cell_type": "code",
   "execution_count": 54,
   "id": "634eee87",
   "metadata": {},
   "outputs": [
    {
     "name": "stdout",
     "output_type": "stream",
     "text": [
      "substring not found\n",
      "not found\n"
     ]
    }
   ],
   "source": [
    "try:\n",
    "    ind = y.index('10')\n",
    "    print('found')\n",
    "except Exception as e:\n",
    "    print(e)\n",
    "    print('not found')"
   ]
  },
  {
   "cell_type": "code",
   "execution_count": 55,
   "id": "de368aab",
   "metadata": {},
   "outputs": [
    {
     "data": {
      "text/plain": [
       "11"
      ]
     },
     "execution_count": 55,
     "metadata": {},
     "output_type": "execute_result"
    }
   ],
   "source": [
    "content.find('engineering')"
   ]
  },
  {
   "cell_type": "code",
   "execution_count": 56,
   "id": "40a29b46",
   "metadata": {},
   "outputs": [],
   "source": [
    "import re # finds patterns"
   ]
  },
  {
   "cell_type": "code",
   "execution_count": 57,
   "id": "3a030aae",
   "metadata": {},
   "outputs": [
    {
     "data": {
      "text/plain": [
       "['1', '2']"
      ]
     },
     "execution_count": 57,
     "metadata": {},
     "output_type": "execute_result"
    }
   ],
   "source": [
    "re.findall('\\d+', content) # finds digits"
   ]
  },
  {
   "cell_type": "code",
   "execution_count": 62,
   "id": "ceb419d8",
   "metadata": {},
   "outputs": [],
   "source": [
    "email_pattern = r'\\b[A-Za-z0-9._%+-]+@[A-Za-z0-9.-]+\\.[A-Z|a-z]{2,}\\b'"
   ]
  },
  {
   "cell_type": "code",
   "execution_count": 63,
   "id": "8feedbed",
   "metadata": {},
   "outputs": [
    {
     "data": {
      "text/plain": [
       "['aseresti@ryerson.ca']"
      ]
     },
     "execution_count": 63,
     "metadata": {},
     "output_type": "execute_result"
    }
   ],
   "source": [
    "re.findall(email_pattern,'my email address is aseresti@ryerson.ca')"
   ]
  },
  {
   "cell_type": "markdown",
   "id": "37e95a0f",
   "metadata": {},
   "source": [
    "### 5. Write down the variable value in each line"
   ]
  },
  {
   "cell_type": "markdown",
   "id": "3a33bf56",
   "metadata": {},
   "source": [
    "#### list comprehension"
   ]
  },
  {
   "cell_type": "code",
   "execution_count": 65,
   "id": "94e002c9",
   "metadata": {},
   "outputs": [],
   "source": [
    "x = [1, 2, 3]"
   ]
  },
  {
   "cell_type": "code",
   "execution_count": 68,
   "id": "9fa2e46b",
   "metadata": {},
   "outputs": [],
   "source": [
    "x_2 = []\n",
    "\n",
    "for item in x:\n",
    "    x_2.append(item**2)"
   ]
  },
  {
   "cell_type": "code",
   "execution_count": 69,
   "id": "7b84ecf3",
   "metadata": {},
   "outputs": [
    {
     "data": {
      "text/plain": [
       "[1, 4, 9]"
      ]
     },
     "execution_count": 69,
     "metadata": {},
     "output_type": "execute_result"
    }
   ],
   "source": [
    "x_2"
   ]
  },
  {
   "cell_type": "code",
   "execution_count": 67,
   "id": "0698d91c",
   "metadata": {},
   "outputs": [
    {
     "data": {
      "text/plain": [
       "[1, 4, 9]"
      ]
     },
     "execution_count": 67,
     "metadata": {},
     "output_type": "execute_result"
    }
   ],
   "source": [
    "[item**2 for item in x]"
   ]
  },
  {
   "cell_type": "code",
   "execution_count": 70,
   "id": "00af48fb",
   "metadata": {},
   "outputs": [],
   "source": [
    "x = ['Anahita Abbasnejad Seresti', 'Ana A. Seresti', 'Anahita Seresti']"
   ]
  },
  {
   "cell_type": "code",
   "execution_count": 71,
   "id": "95059b97",
   "metadata": {},
   "outputs": [
    {
     "data": {
      "text/plain": [
       "[('Anahita', 'Abbasnejad', 'Seresti'),\n",
       " ('Ana', 'A.', 'Seresti'),\n",
       " ('Anahita', 'Seresti')]"
      ]
     },
     "execution_count": 71,
     "metadata": {},
     "output_type": "execute_result"
    }
   ],
   "source": [
    "[tuple(item.split(' ')) for item in x]"
   ]
  },
  {
   "cell_type": "code",
   "execution_count": 72,
   "id": "489efe3e",
   "metadata": {},
   "outputs": [],
   "source": [
    "x = [i +1 for i in range(10)]"
   ]
  },
  {
   "cell_type": "code",
   "execution_count": 73,
   "id": "cb9921af",
   "metadata": {},
   "outputs": [
    {
     "data": {
      "text/plain": [
       "[12, 14, 16, 18, 20]"
      ]
     },
     "execution_count": 73,
     "metadata": {},
     "output_type": "execute_result"
    }
   ],
   "source": [
    "[i*2 for i in x if i>5]"
   ]
  },
  {
   "cell_type": "code",
   "execution_count": 74,
   "id": "2ba34e41",
   "metadata": {},
   "outputs": [],
   "source": [
    "o = []\n",
    "\n",
    "for i in x:\n",
    "    if i>5:\n",
    "        o.append(i*2)"
   ]
  },
  {
   "cell_type": "code",
   "execution_count": 75,
   "id": "a97988e0",
   "metadata": {},
   "outputs": [
    {
     "data": {
      "text/plain": [
       "[12, 14, 16, 18, 20]"
      ]
     },
     "execution_count": 75,
     "metadata": {},
     "output_type": "execute_result"
    }
   ],
   "source": [
    "o"
   ]
  },
  {
   "cell_type": "code",
   "execution_count": 76,
   "id": "65584fc7",
   "metadata": {},
   "outputs": [
    {
     "data": {
      "text/plain": [
       "[(-2, -1), (-1, 0), (0, 1), (1, 2)]"
      ]
     },
     "execution_count": 76,
     "metadata": {},
     "output_type": "execute_result"
    }
   ],
   "source": [
    "[(i, i+1) for i in range(-2,2)]"
   ]
  },
  {
   "cell_type": "code",
   "execution_count": 77,
   "id": "6f1fd754",
   "metadata": {},
   "outputs": [
    {
     "data": {
      "text/plain": [
       "[(-2, -1), (0, 1)]"
      ]
     },
     "execution_count": 77,
     "metadata": {},
     "output_type": "execute_result"
    }
   ],
   "source": [
    "[(i, i+1) for i in range(-2,2) if i % 2 ==0]"
   ]
  },
  {
   "cell_type": "markdown",
   "id": "37693c8a",
   "metadata": {},
   "source": [
    "#### Dictionary Comprehension"
   ]
  },
  {
   "cell_type": "code",
   "execution_count": 78,
   "id": "12f99baa",
   "metadata": {},
   "outputs": [
    {
     "data": {
      "text/plain": [
       "{0: 0, 1: 2, 2: 4, 3: 6, 4: 8, 5: 10, 6: 12, 7: 14, 8: 16, 9: 18}"
      ]
     },
     "execution_count": 78,
     "metadata": {},
     "output_type": "execute_result"
    }
   ],
   "source": [
    "{i:i*2 for i in range(10)}"
   ]
  },
  {
   "cell_type": "code",
   "execution_count": 79,
   "id": "5ed43713",
   "metadata": {},
   "outputs": [],
   "source": [
    "A0 = dict(zip(('a','b','c','d','e'), (1,2,3,4,5)))"
   ]
  },
  {
   "cell_type": "code",
   "execution_count": 80,
   "id": "e4dcbf6e",
   "metadata": {},
   "outputs": [
    {
     "data": {
      "text/plain": [
       "{'a': 1, 'b': 2, 'c': 3, 'd': 4, 'e': 5}"
      ]
     },
     "execution_count": 80,
     "metadata": {},
     "output_type": "execute_result"
    }
   ],
   "source": [
    "A0"
   ]
  },
  {
   "cell_type": "code",
   "execution_count": 81,
   "id": "8c4b3321",
   "metadata": {},
   "outputs": [],
   "source": [
    "A1 = range(10)"
   ]
  },
  {
   "cell_type": "code",
   "execution_count": 82,
   "id": "bd0b6675",
   "metadata": {},
   "outputs": [],
   "source": [
    "A2 = [i for i in A1 if i in A0] # it searches on the dictionary keys"
   ]
  },
  {
   "cell_type": "code",
   "execution_count": 83,
   "id": "6913723b",
   "metadata": {},
   "outputs": [
    {
     "data": {
      "text/plain": [
       "[]"
      ]
     },
     "execution_count": 83,
     "metadata": {},
     "output_type": "execute_result"
    }
   ],
   "source": [
    "A2"
   ]
  },
  {
   "cell_type": "code",
   "execution_count": 84,
   "id": "d62fe8fe",
   "metadata": {},
   "outputs": [],
   "source": [
    "A3 = sorted([A0[s] for s in A0])"
   ]
  },
  {
   "cell_type": "code",
   "execution_count": 85,
   "id": "7e46a314",
   "metadata": {},
   "outputs": [
    {
     "data": {
      "text/plain": [
       "[1, 2, 3, 4, 5]"
      ]
     },
     "execution_count": 85,
     "metadata": {},
     "output_type": "execute_result"
    }
   ],
   "source": [
    "A3"
   ]
  },
  {
   "cell_type": "code",
   "execution_count": 86,
   "id": "b513a5a5",
   "metadata": {},
   "outputs": [],
   "source": [
    "A4 = [i for i in A1 if i in A3]"
   ]
  },
  {
   "cell_type": "code",
   "execution_count": 87,
   "id": "87d166d9",
   "metadata": {},
   "outputs": [
    {
     "data": {
      "text/plain": [
       "[1, 2, 3, 4, 5]"
      ]
     },
     "execution_count": 87,
     "metadata": {},
     "output_type": "execute_result"
    }
   ],
   "source": [
    "A4"
   ]
  },
  {
   "cell_type": "code",
   "execution_count": 88,
   "id": "ad86b3ca",
   "metadata": {},
   "outputs": [],
   "source": [
    "A5 = {i:i*i for i in A1}"
   ]
  },
  {
   "cell_type": "code",
   "execution_count": 89,
   "id": "6206a3e9",
   "metadata": {},
   "outputs": [
    {
     "data": {
      "text/plain": [
       "{0: 0, 1: 1, 2: 4, 3: 9, 4: 16, 5: 25, 6: 36, 7: 49, 8: 64, 9: 81}"
      ]
     },
     "execution_count": 89,
     "metadata": {},
     "output_type": "execute_result"
    }
   ],
   "source": [
    "A5"
   ]
  },
  {
   "cell_type": "code",
   "execution_count": 90,
   "id": "81eedaf7",
   "metadata": {},
   "outputs": [],
   "source": [
    "A6 = [[i,i*i] for i in A1]"
   ]
  },
  {
   "cell_type": "code",
   "execution_count": 91,
   "id": "3e5cb399",
   "metadata": {},
   "outputs": [
    {
     "data": {
      "text/plain": [
       "[[0, 0],\n",
       " [1, 1],\n",
       " [2, 4],\n",
       " [3, 9],\n",
       " [4, 16],\n",
       " [5, 25],\n",
       " [6, 36],\n",
       " [7, 49],\n",
       " [8, 64],\n",
       " [9, 81]]"
      ]
     },
     "execution_count": 91,
     "metadata": {},
     "output_type": "execute_result"
    }
   ],
   "source": [
    "A6"
   ]
  },
  {
   "cell_type": "code",
   "execution_count": 92,
   "id": "1d6695e6",
   "metadata": {},
   "outputs": [],
   "source": [
    "x = [1, 2, 3]\n",
    "y = ['one', 'two', 'three']"
   ]
  },
  {
   "cell_type": "code",
   "execution_count": 93,
   "id": "2468d482",
   "metadata": {},
   "outputs": [
    {
     "name": "stdout",
     "output_type": "stream",
     "text": [
      "1 one\n",
      "2 two\n",
      "3 three\n"
     ]
    }
   ],
   "source": [
    "for item_1 in x:\n",
    "    item_2 = y[x.index(item_1)]\n",
    "    \n",
    "    print(item_1, item_2)"
   ]
  },
  {
   "cell_type": "code",
   "execution_count": 94,
   "id": "61c75aa2",
   "metadata": {},
   "outputs": [
    {
     "data": {
      "text/plain": [
       "{1: 'one', 2: 'two', 3: 'three'}"
      ]
     },
     "execution_count": 94,
     "metadata": {},
     "output_type": "execute_result"
    }
   ],
   "source": [
    "dict(zip(x,y))"
   ]
  },
  {
   "cell_type": "markdown",
   "id": "f44bc2e5",
   "metadata": {},
   "source": [
    "### 6."
   ]
  },
  {
   "cell_type": "code",
   "execution_count": 95,
   "id": "f2145c3b",
   "metadata": {},
   "outputs": [],
   "source": [
    "x = ['foo', [1, 2, 3], 10.4]"
   ]
  },
  {
   "cell_type": "code",
   "execution_count": 96,
   "id": "f7036394",
   "metadata": {},
   "outputs": [],
   "source": [
    "y = x[:]"
   ]
  },
  {
   "cell_type": "code",
   "execution_count": 97,
   "id": "bfee8ccf",
   "metadata": {},
   "outputs": [
    {
     "data": {
      "text/plain": [
       "False"
      ]
     },
     "execution_count": 97,
     "metadata": {},
     "output_type": "execute_result"
    }
   ],
   "source": [
    "y is x"
   ]
  },
  {
   "cell_type": "code",
   "execution_count": 98,
   "id": "4878d3e4",
   "metadata": {},
   "outputs": [],
   "source": [
    "y[0] = 'foooo'"
   ]
  },
  {
   "cell_type": "code",
   "execution_count": 99,
   "id": "4b87361c",
   "metadata": {},
   "outputs": [
    {
     "data": {
      "text/plain": [
       "['foooo', [1, 2, 3], 10.4]"
      ]
     },
     "execution_count": 99,
     "metadata": {},
     "output_type": "execute_result"
    }
   ],
   "source": [
    "y"
   ]
  },
  {
   "cell_type": "code",
   "execution_count": 100,
   "id": "2ac82ebe",
   "metadata": {},
   "outputs": [
    {
     "data": {
      "text/plain": [
       "['foo', [1, 2, 3], 10.4]"
      ]
     },
     "execution_count": 100,
     "metadata": {},
     "output_type": "execute_result"
    }
   ],
   "source": [
    "x"
   ]
  },
  {
   "cell_type": "code",
   "execution_count": 101,
   "id": "8fd9aec0",
   "metadata": {},
   "outputs": [],
   "source": [
    "y[1][0] = 4"
   ]
  },
  {
   "cell_type": "code",
   "execution_count": 102,
   "id": "59b8e593",
   "metadata": {},
   "outputs": [
    {
     "data": {
      "text/plain": [
       "['foooo', [4, 2, 3], 10.4]"
      ]
     },
     "execution_count": 102,
     "metadata": {},
     "output_type": "execute_result"
    }
   ],
   "source": [
    "y"
   ]
  },
  {
   "cell_type": "code",
   "execution_count": 103,
   "id": "9d447658",
   "metadata": {},
   "outputs": [
    {
     "data": {
      "text/plain": [
       "['foo', [4, 2, 3], 10.4]"
      ]
     },
     "execution_count": 103,
     "metadata": {},
     "output_type": "execute_result"
    }
   ],
   "source": [
    "x   # Shallow copy"
   ]
  },
  {
   "cell_type": "code",
   "execution_count": 105,
   "id": "ffb160ad",
   "metadata": {},
   "outputs": [],
   "source": [
    "# deep copy\n",
    "import copy\n",
    "x = ['foo', [1,2,3], 10.4]\n",
    "y = copy.deepcopy(x)"
   ]
  },
  {
   "cell_type": "code",
   "execution_count": 107,
   "id": "9008139f",
   "metadata": {},
   "outputs": [],
   "source": [
    "y[1][0] = 4"
   ]
  },
  {
   "cell_type": "code",
   "execution_count": 108,
   "id": "411e6c73",
   "metadata": {},
   "outputs": [
    {
     "data": {
      "text/plain": [
       "['foo', [1, 2, 3], 10.4]"
      ]
     },
     "execution_count": 108,
     "metadata": {},
     "output_type": "execute_result"
    }
   ],
   "source": [
    "x"
   ]
  },
  {
   "cell_type": "code",
   "execution_count": 109,
   "id": "12d751c2",
   "metadata": {},
   "outputs": [],
   "source": [
    "y = copy.copy(x)"
   ]
  },
  {
   "cell_type": "code",
   "execution_count": 110,
   "id": "ec13819c",
   "metadata": {},
   "outputs": [],
   "source": [
    "y[1][0] = 4"
   ]
  },
  {
   "cell_type": "code",
   "execution_count": 111,
   "id": "3a5a7c15",
   "metadata": {},
   "outputs": [
    {
     "data": {
      "text/plain": [
       "['foo', [4, 2, 3], 10.4]"
      ]
     },
     "execution_count": 111,
     "metadata": {},
     "output_type": "execute_result"
    }
   ],
   "source": [
    "x"
   ]
  },
  {
   "cell_type": "markdown",
   "id": "b666e37a",
   "metadata": {},
   "source": [
    "### 7."
   ]
  },
  {
   "cell_type": "code",
   "execution_count": 112,
   "id": "cb887723",
   "metadata": {},
   "outputs": [],
   "source": [
    "def f(*args, **kwargs):\n",
    "    print(args, kwargs)"
   ]
  },
  {
   "cell_type": "code",
   "execution_count": 113,
   "id": "4c35ea61",
   "metadata": {},
   "outputs": [],
   "source": [
    "l = [1, 2, 3]\n",
    "t = [4, 5, 6]\n",
    "d = {'a':7, 'b':8, 'c':9}"
   ]
  },
  {
   "cell_type": "code",
   "execution_count": 114,
   "id": "1521c73f",
   "metadata": {},
   "outputs": [
    {
     "name": "stdout",
     "output_type": "stream",
     "text": [
      "() {}\n"
     ]
    }
   ],
   "source": [
    "f()"
   ]
  },
  {
   "cell_type": "code",
   "execution_count": 115,
   "id": "b44eda64",
   "metadata": {},
   "outputs": [
    {
     "name": "stdout",
     "output_type": "stream",
     "text": [
      "(1, 2, 3) {}\n"
     ]
    }
   ],
   "source": [
    "f(1, 2, 3)"
   ]
  },
  {
   "cell_type": "code",
   "execution_count": 116,
   "id": "b703166b",
   "metadata": {},
   "outputs": [
    {
     "name": "stdout",
     "output_type": "stream",
     "text": [
      "(1, 2, 3, 'groovy') {}\n"
     ]
    }
   ],
   "source": [
    "f(1, 2, 3, \"groovy\")"
   ]
  },
  {
   "cell_type": "code",
   "execution_count": 117,
   "id": "5fb24773",
   "metadata": {},
   "outputs": [
    {
     "name": "stdout",
     "output_type": "stream",
     "text": [
      "() {'a': 1, 'b': 2, 'c': 3}\n"
     ]
    }
   ],
   "source": [
    "f(a = 1, b = 2, c = 3)"
   ]
  },
  {
   "cell_type": "code",
   "execution_count": 118,
   "id": "0ed73c76",
   "metadata": {},
   "outputs": [
    {
     "name": "stdout",
     "output_type": "stream",
     "text": [
      "(1, 2, 3) {'a': 1, 'b': 2, 'c': 3}\n"
     ]
    }
   ],
   "source": [
    "f(1, 2, 3, a = 1, b = 2, c = 3)"
   ]
  },
  {
   "cell_type": "code",
   "execution_count": 119,
   "id": "3cf6481d",
   "metadata": {},
   "outputs": [
    {
     "name": "stdout",
     "output_type": "stream",
     "text": [
      "(1, 2, 3) {'a': 7, 'b': 8, 'c': 9}\n"
     ]
    }
   ],
   "source": [
    "f(*l, **d)"
   ]
  },
  {
   "cell_type": "code",
   "execution_count": 120,
   "id": "1611de78",
   "metadata": {},
   "outputs": [
    {
     "name": "stdout",
     "output_type": "stream",
     "text": [
      "(1, 2, 1, 2, 3) {'a': 7, 'b': 8, 'c': 9}\n"
     ]
    }
   ],
   "source": [
    "f(1, 2, *l, **d)"
   ]
  },
  {
   "cell_type": "code",
   "execution_count": 121,
   "id": "c63a61f9",
   "metadata": {},
   "outputs": [
    {
     "name": "stdout",
     "output_type": "stream",
     "text": [
      "(1, 2, 1, 2, 3) {'z': 8, 'a': 7, 'b': 8, 'c': 9}\n"
     ]
    }
   ],
   "source": [
    "f(1, 2, *l, z=8, **d)"
   ]
  },
  {
   "cell_type": "code",
   "execution_count": 123,
   "id": "45977814",
   "metadata": {},
   "outputs": [
    {
     "name": "stdout",
     "output_type": "stream",
     "text": [
      "(1, 2, 4, 5, 6) {'z': 8, 'a': 7, 'b': 8, 'c': 9}\n"
     ]
    }
   ],
   "source": [
    "f(1, 2, z=8, *t, **d)"
   ]
  },
  {
   "cell_type": "code",
   "execution_count": 124,
   "id": "6151f934",
   "metadata": {},
   "outputs": [],
   "source": [
    "def f2(arg1, arg2, *args, **kwargs):\n",
    "    print(arg1, arg2, args, kwargs)"
   ]
  },
  {
   "cell_type": "code",
   "execution_count": 125,
   "id": "50512567",
   "metadata": {},
   "outputs": [
    {
     "name": "stdout",
     "output_type": "stream",
     "text": [
      "1 2 (3,) {}\n"
     ]
    }
   ],
   "source": [
    "f2(1, 2, 3)"
   ]
  },
  {
   "cell_type": "code",
   "execution_count": 126,
   "id": "6723bb6c",
   "metadata": {},
   "outputs": [
    {
     "ename": "TypeError",
     "evalue": "f2() missing 2 required positional arguments: 'arg1' and 'arg2'",
     "output_type": "error",
     "traceback": [
      "\u001b[0;31m---------------------------------------------------------------------------\u001b[0m",
      "\u001b[0;31mTypeError\u001b[0m                                 Traceback (most recent call last)",
      "\u001b[0;32m/var/folders/05/bygg4rdj3n7543jkngl6k6z40000gn/T/ipykernel_83435/1336774768.py\u001b[0m in \u001b[0;36m<module>\u001b[0;34m\u001b[0m\n\u001b[0;32m----> 1\u001b[0;31m \u001b[0mf2\u001b[0m\u001b[0;34m(\u001b[0m\u001b[0ma\u001b[0m \u001b[0;34m=\u001b[0m \u001b[0;36m1\u001b[0m\u001b[0;34m,\u001b[0m \u001b[0mb\u001b[0m \u001b[0;34m=\u001b[0m \u001b[0;36m2\u001b[0m\u001b[0;34m,\u001b[0m \u001b[0mc\u001b[0m \u001b[0;34m=\u001b[0m \u001b[0;36m3\u001b[0m\u001b[0;34m)\u001b[0m\u001b[0;34m\u001b[0m\u001b[0;34m\u001b[0m\u001b[0m\n\u001b[0m",
      "\u001b[0;31mTypeError\u001b[0m: f2() missing 2 required positional arguments: 'arg1' and 'arg2'"
     ]
    }
   ],
   "source": [
    "f2(a = 1, b = 2, c = 3)"
   ]
  },
  {
   "cell_type": "code",
   "execution_count": 127,
   "id": "3a144eef",
   "metadata": {},
   "outputs": [
    {
     "name": "stdout",
     "output_type": "stream",
     "text": [
      "1 2 () {'a': 1, 'b': 2, 'c': 3}\n"
     ]
    }
   ],
   "source": [
    "f2(1, 2, a = 1, b = 2, c = 3)"
   ]
  },
  {
   "cell_type": "code",
   "execution_count": 128,
   "id": "abc4693a",
   "metadata": {},
   "outputs": [
    {
     "name": "stdout",
     "output_type": "stream",
     "text": [
      "1 1 (2, 3) {'a': 1, 'b': 2, 'c': 3}\n"
     ]
    }
   ],
   "source": [
    "f2(1, *{1, 2, 3}, a = 1, b = 2, c = 3)"
   ]
  }
 ],
 "metadata": {
  "kernelspec": {
   "display_name": "Python 3 (ipykernel)",
   "language": "python",
   "name": "python3"
  },
  "language_info": {
   "codemirror_mode": {
    "name": "ipython",
    "version": 3
   },
   "file_extension": ".py",
   "mimetype": "text/x-python",
   "name": "python",
   "nbconvert_exporter": "python",
   "pygments_lexer": "ipython3",
   "version": "3.9.7"
  }
 },
 "nbformat": 4,
 "nbformat_minor": 5
}
